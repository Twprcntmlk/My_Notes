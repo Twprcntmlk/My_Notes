{
 "cells": [
  {
   "cell_type": "code",
   "execution_count": 13,
   "metadata": {},
   "outputs": [],
   "source": [
    "import os"
   ]
  },
  {
   "cell_type": "code",
   "execution_count": 14,
   "metadata": {},
   "outputs": [
    {
     "data": {
      "text/plain": [
       "['venv', 'Series.py', 'ReadMe.md', 'series.ipynb', 'Series.md']"
      ]
     },
     "execution_count": 14,
     "metadata": {},
     "output_type": "execute_result"
    }
   ],
   "source": [
    "os.listdir(\".\")"
   ]
  },
  {
   "cell_type": "code",
   "execution_count": 2,
   "metadata": {},
   "outputs": [],
   "source": [
    "import pandas as pd\n",
    "import numpy as np"
   ]
  },
  {
   "cell_type": "code",
   "execution_count": 22,
   "metadata": {},
   "outputs": [],
   "source": [
    "DiversifyPercent = 1\n",
    "SingleAccountMax = .20\n",
    "DealMinimum =.05\n"
   ]
  },
  {
   "cell_type": "code",
   "execution_count": null,
   "metadata": {},
   "outputs": [],
   "source": []
  },
  {
   "cell_type": "code",
   "execution_count": 23,
   "metadata": {},
   "outputs": [
    {
     "name": "stdout",
     "output_type": "stream",
     "text": [
      "                                          account_name    oz Balance  \\\n",
      "0    2013 JOHN A. BENNETT AND LORI L. BENNETT REVOC...  1.586157e+01   \n",
      "1                                             4DDS Inc  1.637591e+02   \n",
      "2                                         Adam J. Barr  1.625924e+00   \n",
      "3                                        Adam Sowinski  4.311000e-07   \n",
      "4                             Addison and Nagila Quale  6.610673e+00   \n",
      "..                                                 ...           ...   \n",
      "325     Richard Wayne Arneson and Alice Louise Arneson  0.000000e+00   \n",
      "326                     Carlos M Rossi & Hebe M Garcia  0.000000e+00   \n",
      "327                                   Dennis L. Briggs  0.000000e+00   \n",
      "328                            Alexander Maslinksovsky  0.000000e+00   \n",
      "329  Mark B. Andrews Revocable Trust Agreement Date...  0.000000e+00   \n",
      "\n",
      "     oz Available    Deposit  Withdraw  \n",
      "0       15.861570    0.00000         0  \n",
      "1      163.759106    0.00000         0  \n",
      "2        1.625923    0.00000         0  \n",
      "3        0.000000    0.00000         0  \n",
      "4        6.610672    0.00000         0  \n",
      "..            ...        ...       ...  \n",
      "325     10.677680   10.67768         0  \n",
      "326    133.753680  133.75368         0  \n",
      "327     17.612510   17.61251         0  \n",
      "328     20.082570   20.08257         0  \n",
      "329     10.876100   10.87610         0  \n",
      "\n",
      "[330 rows x 5 columns]\n"
     ]
    }
   ],
   "source": [
    "client_balance = pd.read_excel(r'/home/stephenchoung/MainCodingFolder/Study_Materials/Pandas/Blanket Lease with Opt out v6.xlsx', sheet_name=\"Client Escrow Balance\")\n",
    "print(client_balance )"
   ]
  },
  {
   "cell_type": "code",
   "execution_count": 24,
   "metadata": {},
   "outputs": [],
   "source": [
    "Blanket_Lease_Gold_Table = pd.DataFrame()\n",
    "Blanket_Lease_Gold_Table[\"Account Name\"] = client_balance[\"account_name\"]\n",
    "Blanket_Lease_Gold_Table[\"AccountTotal Bal\"] = client_balance[\"oz Balance\"] + client_balance[\"oz Available\"]\n",
    "Blanket_Lease_Gold_Table[\"Storage Balance\"] = client_balance[\"oz Available\"]\n",
    "Blanket_Lease_Gold_Table[\"Deal Minimum\"] = Blanket_Lease_Gold_Table[\"AccountTotal Bal\"] * DealMinimum\n",
    "\n",
    "Blanket_Lease_Gold_Table[\"Minimum Lease Amount\"] = \n",
    "\n"
   ]
  },
  {
   "cell_type": "code",
   "execution_count": 25,
   "metadata": {},
   "outputs": [
    {
     "name": "stdout",
     "output_type": "stream",
     "text": [
      "                                          Account Name  AccountTotal Bal  \\\n",
      "0    2013 JOHN A. BENNETT AND LORI L. BENNETT REVOC...      3.172314e+01   \n",
      "1                                             4DDS Inc      3.275182e+02   \n",
      "2                                         Adam J. Barr      3.251847e+00   \n",
      "3                                        Adam Sowinski      4.311000e-07   \n",
      "4                             Addison and Nagila Quale      1.322134e+01   \n",
      "..                                                 ...               ...   \n",
      "325     Richard Wayne Arneson and Alice Louise Arneson      1.067768e+01   \n",
      "326                     Carlos M Rossi & Hebe M Garcia      1.337537e+02   \n",
      "327                                   Dennis L. Briggs      1.761251e+01   \n",
      "328                            Alexander Maslinksovsky      2.008257e+01   \n",
      "329  Mark B. Andrews Revocable Trust Agreement Date...      1.087610e+01   \n",
      "\n",
      "     Storage Balance  Deal Minimum  \n",
      "0          15.861570  1.586157e+00  \n",
      "1         163.759106  1.637591e+01  \n",
      "2           1.625923  1.625923e-01  \n",
      "3           0.000000  2.155500e-08  \n",
      "4           6.610672  6.610672e-01  \n",
      "..               ...           ...  \n",
      "325        10.677680  5.338840e-01  \n",
      "326       133.753680  6.687684e+00  \n",
      "327        17.612510  8.806255e-01  \n",
      "328        20.082570  1.004128e+00  \n",
      "329        10.876100  5.438050e-01  \n",
      "\n",
      "[330 rows x 4 columns]\n"
     ]
    }
   ],
   "source": [
    "print(Blanket_Lease_Gold_Table)"
   ]
  },
  {
   "cell_type": "code",
   "execution_count": null,
   "metadata": {},
   "outputs": [],
   "source": [
    "#  , \"Rolling Off oz\", \"Deal Minimum\",\"Available Oz %\", \"Diversify Percent\",\t\"(oz) In Deals\",\"Locked (oz) In Deals\",\"Avail OzAfter Lock\"\n"
   ]
  }
 ],
 "metadata": {
  "interpreter": {
   "hash": "976271ad56b872a644a7394f4f5064439c32bddfe0bf937bdbe2739c4d39cc6c"
  },
  "kernelspec": {
   "display_name": "Python 3.8.2 64-bit ('3.8.2')",
   "language": "python",
   "name": "python3"
  },
  "language_info": {
   "codemirror_mode": {
    "name": "ipython",
    "version": 3
   },
   "file_extension": ".py",
   "mimetype": "text/x-python",
   "name": "python",
   "nbconvert_exporter": "python",
   "pygments_lexer": "ipython3",
   "version": "3.8.2"
  },
  "orig_nbformat": 4
 },
 "nbformat": 4,
 "nbformat_minor": 2
}
